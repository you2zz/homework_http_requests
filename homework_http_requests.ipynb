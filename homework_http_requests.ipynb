{
 "cells": [
  {
   "cell_type": "code",
   "execution_count": null,
   "metadata": {},
   "outputs": [],
   "source": [
    "# Задача №1. Кто самый умный супергерой?\n",
    "\n",
    "import requests\n",
    "\n",
    "def get_resourse(link):\n",
    "    resp = requests.get(link)\n",
    "    return resp.json()\n",
    "\n",
    "def smartest_super(names, url):\n",
    "    base_super = get_resourse(url)\n",
    "    dict_supers = {}\n",
    "    for i in range(len(base_super)):\n",
    "        current_dict = base_super[i]\n",
    "        for name in names:\n",
    "            if current_dict['name'] == name:\n",
    "                dict_supers.setdefault(current_dict['name'], current_dict[\"powerstats\"][\"intelligence\"])\n",
    "    return max(dict_supers, key=dict_supers.get)\n",
    "\n",
    "super_herous = ['Hulk', 'Captain America', 'Thanos']\n",
    "url = 'https://akabab.github.io/superhero-api/api/all.json'\n",
    "print(f'Самый умный супергерой это: {smartest_super(super_herous, url)}')"
   ]
  },
  {
   "cell_type": "code",
   "execution_count": null,
   "metadata": {},
   "outputs": [],
   "source": [
    "# Задача №2 (без ООП)\n",
    "\n",
    "import requests\n",
    "\n",
    "def get_upload_link(disk_file_path, token):\n",
    "        upload_url = \"https://cloud-api.yandex.net/v1/disk/resources/upload\"\n",
    "        headers = {'Content-Type': 'application/json', 'Authorization': 'OAuth {}'.format(token)}\n",
    "        params = {\"path\": disk_file_path, \"overwrite\": \"true\"}\n",
    "        response = requests.get(upload_url, headers=headers, params=params)\n",
    "        return response.json()\n",
    "\n",
    "def upload_file_to_disk(disk_file_path, filename, token):\n",
    "        href = get_upload_link(disk_file_path=disk_file_path, token=token).get(\"href\", \"\")\n",
    "        response = requests.put(href, data=open(filename, 'rb'))\n",
    "        response.raise_for_status()\n",
    "        if response.status_code == 201:\n",
    "            print(\"Success\")\n",
    "\n",
    "token = ''\n",
    "upload_file_to_disk(\"test12052023.txt\", \"test12052023.txt\", token)"
   ]
  },
  {
   "cell_type": "code",
   "execution_count": null,
   "metadata": {},
   "outputs": [],
   "source": [
    "# Задача №2 (с ООП)\n",
    "\n",
    "import requests\n",
    "\n",
    "from ya_disk import YandexDisk\n",
    "\n",
    "TOKEN = ''\n",
    "if __name__ == '__main__':\n",
    "    yd = YandexDisk(token=TOKEN)\n",
    "    yd.upload_file_to_disk(\"test12052023.txt\", \"test12052023.txt\")"
   ]
  }
 ],
 "metadata": {
  "kernelspec": {
   "display_name": "Python 3",
   "language": "python",
   "name": "python3"
  },
  "language_info": {
   "codemirror_mode": {
    "name": "ipython",
    "version": 3
   },
   "file_extension": ".py",
   "mimetype": "text/x-python",
   "name": "python",
   "nbconvert_exporter": "python",
   "pygments_lexer": "ipython3",
   "version": "3.11.3"
  },
  "orig_nbformat": 4
 },
 "nbformat": 4,
 "nbformat_minor": 2
}
