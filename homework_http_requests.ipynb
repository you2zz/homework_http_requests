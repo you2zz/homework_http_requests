{
 "cells": [
  {
   "cell_type": "code",
   "execution_count": 3,
   "metadata": {},
   "outputs": [],
   "source": [
    "from pprint import pprint\n",
    "\n",
    "import requests"
   ]
  },
  {
   "cell_type": "code",
   "execution_count": 14,
   "metadata": {},
   "outputs": [],
   "source": [
    "def get_resourse(link):\n",
    "    resp = requests.get(link)\n",
    "    return resp.json()"
   ]
  },
  {
   "cell_type": "code",
   "execution_count": 28,
   "metadata": {},
   "outputs": [],
   "source": [
    "def smartest_super(names, url):\n",
    "    base_super = get_resourse(url)\n",
    "    list_supers = []\n",
    "    for i in range(len(base_super)):\n",
    "        current_dict = base_super[i]\n",
    "        for name in names:\n",
    "            if current_dict['name'] == name:\n",
    "                list_supers.append({current_dict['name']:current_dict[\"powerstats\"][\"intelligence\"]})\n",
    "    return list_supers"
   ]
  },
  {
   "cell_type": "code",
   "execution_count": 29,
   "metadata": {},
   "outputs": [
    {
     "name": "stdout",
     "output_type": "stream",
     "text": [
      "[{'Captain America': 69}, {'Hulk': 88}, {'Thanos': 100}]\n"
     ]
    }
   ],
   "source": [
    "super_herous = ['Hulk', 'Captain America', 'Thanos']\n",
    "url = 'https://akabab.github.io/superhero-api/api/all.json'\n",
    "print(smartest_super(super_herous, url))"
   ]
  }
 ],
 "metadata": {
  "kernelspec": {
   "display_name": "Python 3",
   "language": "python",
   "name": "python3"
  },
  "language_info": {
   "codemirror_mode": {
    "name": "ipython",
    "version": 3
   },
   "file_extension": ".py",
   "mimetype": "text/x-python",
   "name": "python",
   "nbconvert_exporter": "python",
   "pygments_lexer": "ipython3",
   "version": "3.11.3"
  },
  "orig_nbformat": 4
 },
 "nbformat": 4,
 "nbformat_minor": 2
}
